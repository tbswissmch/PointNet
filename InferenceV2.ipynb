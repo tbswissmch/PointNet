{
 "cells": [
  {
   "cell_type": "code",
   "execution_count": null,
   "metadata": {},
   "outputs": [],
   "source": [
    "# load point cloud file \n",
    "fn = 'path/to/local_file.txt'\n",
    "point_set = np.loadtxt(fn[1], delimiter=',').astype(np.float32)\n",
    "\n",
    "# create an instance of the model\n",
    "model = get_model(normal_channel=False)\n",
    "\n",
    "# load the trained weights from the .pth file\n",
    "model.load_state_dict(torch.load('path/to/weights.pth'))\n",
    "\n",
    "# pass the point cloud data through the model\n",
    "with torch.no_grad():\n",
    "    vec, trans_feat = model(point_cloud)\n",
    "    \n",
    "print(probs)\n",
    "print(trans_feat)"
   ]
  }
 ],
 "metadata": {
  "kernelspec": {
   "display_name": "Python 3",
   "language": "python",
   "name": "python3"
  },
  "language_info": {
   "codemirror_mode": {
    "name": "ipython",
    "version": 3
   },
   "file_extension": ".py",
   "mimetype": "text/x-python",
   "name": "python",
   "nbconvert_exporter": "python",
   "pygments_lexer": "ipython3",
   "version": "3.7.6"
  }
 },
 "nbformat": 4,
 "nbformat_minor": 4
}

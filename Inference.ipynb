{
 "cells": [
  {
   "cell_type": "code",
   "execution_count": 2,
   "id": "c621b5c4",
   "metadata": {},
   "outputs": [
    {
     "data": {
      "text/plain": [
       "<All keys matched successfully>"
      ]
     },
     "execution_count": 2,
     "metadata": {},
     "output_type": "execute_result"
    }
   ],
   "source": [
    "import torch\n",
    "from models.pointnet_cls import get_model\n",
    "\n",
    "# Step 1: Instantiate the Model\n",
    "model = get_model(k=40, normal_channel=False)  # Assuming 40 output classes and using 3 channels\n",
    "\n",
    "# Step 2: Load Model Weights\n",
    "checkpoint = torch.load('log/classification/pointnet_cls/checkpoints/best_model.pth')  # Load weights from a checkpoint file\n",
    "model.load_state_dict(checkpoint['model_state_dict'])"
   ]
  },
  {
   "cell_type": "code",
   "execution_count": 2,
   "id": "0f8d55e7",
   "metadata": {},
   "outputs": [
    {
     "name": "stdout",
     "output_type": "stream",
     "text": [
      "['/home/tobias/repos/Pointnet_Pointnet2_pytorch', '/home/tobias/anaconda3/lib/python311.zip', '/home/tobias/anaconda3/lib/python3.11', '/home/tobias/anaconda3/lib/python3.11/lib-dynload', '', '/home/tobias/anaconda3/lib/python3.11/site-packages']\n"
     ]
    }
   ],
   "source": [
    "# Step 4: Perform Inference\n",
    "data = 'data/00000002_1ffb81a71e5b402e966b9341_trimesh_001_p10000_normalized.txt'\n",
    "with torch.no_grad():\n",
    "    output, trans_feat = model(preprocessed_data)\n",
    "\n",
    "# Step 5: Interpret Results\n",
    "# Process the output to obtain predictions or other relevant information\n",
    "# For example, for classification tasks, you might use softmax to get class probabilities\n",
    "probabilities = torch.nn.functional.softmax(output, dim=1)\n",
    "predicted_classes = torch.argmax(probabilities, dim=1)\n",
    "\n",
    "# Print or use the predictions as needed\n",
    "print(\"Predicted classes:\", predicted_classes)"
   ]
  },
  {
   "cell_type": "code",
   "execution_count": null,
   "id": "01f5ca8a",
   "metadata": {},
   "outputs": [],
   "source": []
  }
 ],
 "metadata": {
  "kernelspec": {
   "display_name": "Python 3 (ipykernel)",
   "language": "python",
   "name": "python3"
  },
  "language_info": {
   "codemirror_mode": {
    "name": "ipython",
    "version": 3
   },
   "file_extension": ".py",
   "mimetype": "text/x-python",
   "name": "python",
   "nbconvert_exporter": "python",
   "pygments_lexer": "ipython3",
   "version": "3.11.5"
  }
 },
 "nbformat": 4,
 "nbformat_minor": 5
}
